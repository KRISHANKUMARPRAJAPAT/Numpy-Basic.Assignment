{
 "cells": [
  {
   "cell_type": "markdown",
   "id": "d657045d-2d11-4cdb-ba7c-5299ff9b2d91",
   "metadata": {},
   "source": [
    "## Consider the below code to answer further questions:\n",
    "    \n",
    "import numpy as np\n",
    "\n",
    "list_ = [ ‘1’ , ’2’ , ‘3’ , ‘4’ , ‘5’ ]\n",
    "\n",
    "array_list = np.array(object = list_)"
   ]
  },
  {
   "cell_type": "code",
   "execution_count": 1,
   "id": "6539ca18-371f-4a74-b44b-5c1d4b2506cd",
   "metadata": {},
   "outputs": [],
   "source": [
    "import numpy as np"
   ]
  },
  {
   "cell_type": "markdown",
   "id": "6b1b5f61-bdea-489a-beaf-163fa3818e1d",
   "metadata": {},
   "source": [
    "## Q1. Is there any difference in the data type of variables list_ and array_list? If there is then write a code to print the data types of both the variables."
   ]
  },
  {
   "cell_type": "markdown",
   "id": "f302dc53-09a1-4e6f-b379-7ff18cacd10e",
   "metadata": {},
   "source": [
    "#Ans: 1\n",
    "\n",
    "Yes, there is a difference in the data type of variables list_ and array_list.\n",
    "\n",
    "list_ is a Python list, while array_list is a NumPy array."
   ]
  },
  {
   "cell_type": "code",
   "execution_count": 4,
   "id": "11f10192-de9e-4160-b3b1-d8048a0ba78b",
   "metadata": {},
   "outputs": [
    {
     "name": "stdout",
     "output_type": "stream",
     "text": [
      "<class 'list'>\n",
      "<class 'numpy.ndarray'>\n"
     ]
    }
   ],
   "source": [
    "import numpy as np \n",
    "\n",
    "list_ = ['1', '2', '3', '4', '5']\n",
    "array_list = np.array(object= list_)\n",
    "\n",
    "print(type(list_))\n",
    "print(type(array_list))"
   ]
  },
  {
   "cell_type": "raw",
   "id": "bf8eeb8a-3219-44f2-8d0e-6974c64f668e",
   "metadata": {},
   "source": []
  },
  {
   "cell_type": "markdown",
   "id": "640ae06b-e0fd-4005-800d-61cac6a79605",
   "metadata": {},
   "source": [
    "## Q2. Write a code to print the data type of each and every element of both the variables list_ and arra_list."
   ]
  },
  {
   "cell_type": "code",
   "execution_count": 6,
   "id": "bff79432-5f51-49a2-88e3-c728106dc64d",
   "metadata": {},
   "outputs": [
    {
     "name": "stdout",
     "output_type": "stream",
     "text": [
      "<class 'str'>\n",
      "<class 'str'>\n",
      "<class 'str'>\n",
      "<class 'str'>\n",
      "<class 'str'>\n",
      "<class 'numpy.str_'>\n",
      "<class 'numpy.str_'>\n",
      "<class 'numpy.str_'>\n",
      "<class 'numpy.str_'>\n",
      "<class 'numpy.str_'>\n"
     ]
    }
   ],
   "source": [
    "#Ans : 2\n",
    "\n",
    "list_ = ['1', '2', '3', '4', '5']\n",
    "array_list = np.array(object = list_)\n",
    "\n",
    "#Print the data type of each element in list_\n",
    "for element in list_ :\n",
    "    print(type(element))\n",
    "    \n",
    "#Print the data type of each element in array_list\n",
    "for element in array_list : \n",
    "    print(type(element))"
   ]
  },
  {
   "cell_type": "raw",
   "id": "61eec936-3c30-49f0-8acc-03a97957d1b2",
   "metadata": {},
   "source": []
  },
  {
   "cell_type": "markdown",
   "id": "f2692f8d-e98b-4436-af14-b1d7372e2acb",
   "metadata": {},
   "source": [
    "## Q.3 Will there be any difference in the data type of the elements present in both the variables, list_ and arra_list? If so then print the data types of each and every element present in both the variables, list_ and arra_list. "
   ]
  },
  {
   "cell_type": "markdown",
   "id": "b5041a11-0813-4310-9425-1fda693ca77d",
   "metadata": {},
   "source": [
    "Ans: 3\n",
    "\n",
    "Yes, there will be a difference in the data type of the elements present in list_ and array_list.\n",
    "\n",
    "because array_list is created with a dtype of int which will convert the string elements of the original list to integer type.\n",
    "the data type of each element in list_ is str, while the data type of each element in array_list is numpy.int64 after conversion."
   ]
  },
  {
   "cell_type": "code",
   "execution_count": 8,
   "id": "df38e36a-b80a-4882-bd17-d7499040ec6a",
   "metadata": {},
   "outputs": [
    {
     "name": "stdout",
     "output_type": "stream",
     "text": [
      "<class 'str'>\n",
      "<class 'str'>\n",
      "<class 'str'>\n",
      "<class 'str'>\n",
      "<class 'str'>\n",
      "<class 'numpy.int64'>\n",
      "<class 'numpy.int64'>\n",
      "<class 'numpy.int64'>\n",
      "<class 'numpy.int64'>\n",
      "<class 'numpy.int64'>\n"
     ]
    }
   ],
   "source": [
    "list_ = ['1', '2', '3', '4', '5']\n",
    "array_list = np.array(object=list_, dtype=int)\n",
    "\n",
    "#print the data type of each element in list_\n",
    "for element in list_ : \n",
    "    print(type(element))\n",
    "    \n",
    "#print the data type of each element in array_list\n",
    "for element in array_list :\n",
    "    print(type(element))"
   ]
  },
  {
   "cell_type": "raw",
   "id": "7c20b353-d47a-4a10-a0f8-7f977b8be0eb",
   "metadata": {},
   "source": []
  },
  {
   "cell_type": "markdown",
   "id": "d5308645-fb1f-43a7-b0c5-b61fc7bf4a4f",
   "metadata": {},
   "source": [
    "# Consider the below code to answer further questions:\n",
    "\n",
    "import numpy as np\n",
    "\n",
    "num_list = [ [ 1 , 2 , 3 ] , [ 4 , 5 , 6 ] ]\n",
    "\n",
    "num_array = np.array(object = num_list)"
   ]
  },
  {
   "cell_type": "markdown",
   "id": "0f1d2666-8c1c-4289-841f-7a3189e77567",
   "metadata": {},
   "source": [
    "## Q4. Write a code to find the following characteristics of variable, num_array:\n",
    "**(i) shape**\n",
    "\n",
    "**(ii) size**"
   ]
  },
  {
   "cell_type": "code",
   "execution_count": 12,
   "id": "5d98c451-e9f6-47b2-bfb0-c1b279bf6df3",
   "metadata": {},
   "outputs": [
    {
     "name": "stdout",
     "output_type": "stream",
     "text": [
      "Shape of num_array is: (2, 3)\n"
     ]
    }
   ],
   "source": [
    "#Ans: (i)Shape:\n",
    "\n",
    "num_list = [[1, 2, 3], [4, 5, 6]]\n",
    "num_array = np.array(object=num_list)\n",
    "\n",
    "# find shape of num_array\n",
    "shape = num_array.shape\n",
    "print(\"Shape of num_array is:\" , shape)"
   ]
  },
  {
   "cell_type": "code",
   "execution_count": 13,
   "id": "9630ae89-c5cd-4b5f-bd36-4997a250e130",
   "metadata": {},
   "outputs": [
    {
     "name": "stdout",
     "output_type": "stream",
     "text": [
      "Size of num_array is: 6\n"
     ]
    }
   ],
   "source": [
    "#(ii) Size :\n",
    "\n",
    "num_list = [[1, 2, 3], [4, 5, 6]]\n",
    "num_array = np.array(object=num_list)\n",
    "\n",
    "#find size of num_array :\n",
    "size = num_array.size\n",
    "print(\"Size of num_array is:\" , size)"
   ]
  },
  {
   "cell_type": "raw",
   "id": "63295e72-220a-46fc-b44a-2cfe4801adc1",
   "metadata": {},
   "source": []
  },
  {
   "cell_type": "markdown",
   "id": "1c6c08d8-2531-468f-92cf-9a9abb4a861c",
   "metadata": {},
   "source": [
    "## Q5. Write a code to create numpy array of 3*3 matrix containing zeros only, using a numpy array creation function.\n",
    "\n",
    "**[Hint: The size of the array will be 9 and the shape will be (3,3).]**"
   ]
  },
  {
   "cell_type": "code",
   "execution_count": 14,
   "id": "737bce71-5afc-4090-8d09-4b2d3c4f3d06",
   "metadata": {},
   "outputs": [
    {
     "name": "stdout",
     "output_type": "stream",
     "text": [
      "[[0. 0. 0.]\n",
      " [0. 0. 0.]\n",
      " [0. 0. 0.]]\n"
     ]
    }
   ],
   "source": [
    "Ans: 5\n",
    "\n",
    "zeros_array = np.zeros(shape= (3,3))\n",
    "print(zeros_array)"
   ]
  },
  {
   "cell_type": "raw",
   "id": "6dbf0b66-62f4-425e-a9ce-85e0af1d649c",
   "metadata": {},
   "source": []
  },
  {
   "cell_type": "markdown",
   "id": "2ed8aba7-3b7c-4bc7-ae2f-073845e6c51d",
   "metadata": {},
   "source": [
    "## Q6. Create an identity matrix of shape (5,5) using numpy functions?\n",
    "**[Hint: An identity matrix is a matrix containing 1 diagonally and other elements will be 0.]**"
   ]
  },
  {
   "cell_type": "code",
   "execution_count": 15,
   "id": "30d8ffa3-23bd-4f6b-8ea2-767eee9af218",
   "metadata": {},
   "outputs": [
    {
     "name": "stdout",
     "output_type": "stream",
     "text": [
      "[[1. 0. 0. 0. 0.]\n",
      " [0. 1. 0. 0. 0.]\n",
      " [0. 0. 1. 0. 0.]\n",
      " [0. 0. 0. 1. 0.]\n",
      " [0. 0. 0. 0. 1.]]\n"
     ]
    }
   ],
   "source": [
    "Ans: \n",
    "\n",
    "identity_matrix = np.identity(5)\n",
    "print(identity_matrix)"
   ]
  },
  {
   "cell_type": "code",
   "execution_count": null,
   "id": "1650aed7-2cdb-4e31-9107-c1e5a4888174",
   "metadata": {},
   "outputs": [],
   "source": []
  }
 ],
 "metadata": {
  "kernelspec": {
   "display_name": "Python 3 (ipykernel)",
   "language": "python",
   "name": "python3"
  },
  "language_info": {
   "codemirror_mode": {
    "name": "ipython",
    "version": 3
   },
   "file_extension": ".py",
   "mimetype": "text/x-python",
   "name": "python",
   "nbconvert_exporter": "python",
   "pygments_lexer": "ipython3",
   "version": "3.10.8"
  }
 },
 "nbformat": 4,
 "nbformat_minor": 5
}
